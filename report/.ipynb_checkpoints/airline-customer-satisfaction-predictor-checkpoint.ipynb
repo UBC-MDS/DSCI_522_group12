{
  "cells": [
    {
      "cell_type": "raw",
      "metadata": {},
      "source": [
        "---\n",
        "title: 'Predicting US Airline Passenger Satisfaction: A Data-Driven Approach.'\n",
        "author: 'Hrayr Muradyan, Azin Piran, Sopuruchi Chisom, Shengjia Yu.'\n",
        "date: 2024/12/07\n",
        "format:\n",
        "  html:\n",
        "    toc: true\n",
        "    toc-depth: 2\n",
        "  pdf:\n",
        "    toc: true\n",
        "    toc-depth: 2\n",
        "    fig-pos: h\n",
        "bibliography: references.bib\n",
        "citation: true\n",
        "execute:\n",
        "  echo: false\n",
        "  warning: false\n",
        "editor: source\n",
        "---"
      ],
      "id": "936148b9"
    },
    {
      "cell_type": "code",
      "metadata": {},
      "source": [
        "import pandas as pd\n",
        "import pandera as pa\n",
        "import matplotlib.pyplot as plt\n",
        "import seaborn as sns\n",
        "from sklearn.model_selection import train_test_split\n",
        "from sklearn.compose import make_column_transformer\n",
        "from sklearn.preprocessing import StandardScaler, OneHotEncoder, MinMaxScaler\n",
        "from sklearn.dummy import DummyClassifier\n",
        "from sklearn.model_selection import cross_validate\n",
        "from sklearn.pipeline import make_pipeline\n",
        "from sklearn.linear_model import LogisticRegression\n",
        "from sklearn.metrics import make_scorer, f1_score\n",
        "from sklearn.tree import DecisionTreeClassifier\n",
        "from sklearn.metrics import precision_score\n",
        "from sklearn.model_selection import GridSearchCV"
      ],
      "id": "bbfa0c37",
      "execution_count": null,
      "outputs": []
    },
    {
      "cell_type": "markdown",
      "metadata": {},
      "source": [
        "# **Predicting US Airline Passenger Satisfaction: A Data-Driven Approach**\n",
        "\n",
        "### **Summary**\n",
        "\n",
        "## **Introduction**\n",
        "In the highly competitive field of air transport management, passenger satisfaction plays a critical role in making customer loyalty, providing operational insights, enhancing financial performance, and ensuring compliance with regulations and rankings (Sadegh Eshaghi et al, 2024). While there are numerous studies held on factors influencing customer satisfaction like service quality (???Namukasa, 2023), it is very important to be able to predict the customer satisfaction with high accuracy for understanding how to improve and make better decisions. In this study, we aim to create a reliable predictive model that will predict US airline passenger satisfaction with high performance.\n",
        "\n",
        "### **Dataset Overview**\n",
        "The dataset includes a variety of features such as:\n",
        "- **Flight Information**: Flight distance, departure delay, arrival delay, etc.\n",
        "- **Passenger Demographics**: Age, gender, travel class, etc.\n",
        "- **Flight Service Quality**: Satisfaction ratings on aspects such as in-flight entertainment, seat comfort, and food quality.\n",
        "\n",
        "The goal is to predict the **passenger satisfaction** (either satisfied or dissatisfied) based on these features."
      ],
      "id": "19cfaa50"
    },
    {
      "cell_type": "raw",
      "metadata": {},
      "source": [
        "---\n",
        "\n",
        "## **Data Exploration and Preprocessing**\n",
        "\n",
        "### **Data Validation**\n",
        "To ensure the integrity and quality of the dataset, a series of validation steps were performed:\n",
        "\n",
        "- **Correct Data File Format**: The data files were loaded in `.csv` format, compatible with Python's pandas library. The training and test datasets were successfully merged, with no inconsistencies in file format. The combined dataset consists of 129,880 rows and 24 columns. ??? \n",
        "\n",
        "- **Correct Column Names**: The column names were standardized by converting them to lowercase and replacing spaces or dashes with underscores for consistency. A specific renaming step was applied to the 'departure/arrival_time_convenient' column, renaming it to 'time_convenient'.\n",
        "\n",
        "- **Empty Observations**: The dataset was checked for empty rows using a schema validation function. No empty rows were found, ensuring data completeness.\n",
        "\n",
        "- **Missingness**: Missing data was examined for each column. A threshold of 5% missing data per column was established. The 'arrival_delay_in_minutes' column had a minor amount of missing data (approximately 0.3%), which is within the acceptable range.\n",
        "\n",
        "- **Correct Data Types**: Each column's data type was validated to ensure consistency. All columns had the expected data types (e.g., integer for numerical columns, string for categorical variables). The target variable, 'satisfaction', was confirmed as a categorical variable.\n",
        "\n",
        "- **No Duplicate Observations**: Duplicates were checked based on the unique 'id' column and across all columns. No duplicates were found, indicating that each observation is unique.\n",
        "\n",
        "- **Outliers and Anomalous Values**: Each numerical column was checked for outliers and anomalous values. Variables such as 'flight_distance', 'age', and 'delay times' were inspected, with no extreme outliers detected. Range constraints for certain features were defined (e.g., 'age' should be between 0 and 100, 'flight_distance' should be positive).\n",
        "\n",
        "- **Correct Category Levels**: The categorical variables, such as 'customer_type', 'class', and 'satisfaction', were validated to ensure no incorrect category levels. The 'customer_type' column had a case mismatch (\"disloyal customer\"), which was corrected to \"Disloyal Customer\" for consistency.\n",
        "\n",
        "### **Target Variable Analysis**\n",
        "\n",
        "The target variable, 'satisfaction', consists of two categories: 'neutral or dissatisfied' and 'satisfied'. The distribution of this target variable was checked to assess class balance:\n",
        "\n",
        "- **Class Distribution**: The 'satisfaction' column is slightly imbalanced, with 56.5% of the observations labeled as 'neutral or dissatisfied' and 43.5% as 'satisfied'. This is considered a minor imbalance and should not significantly affect model performance.\n",
        "\n",
        "- **Data Type and Category Check**: The 'satisfaction' column was confirmed to be of type `object` ???, indicating that it is categorical. There are only two unique categories in this column, as expected.\n",
        "\n",
        "???? we should have a graph here\n",
        "\n",
        "### **Data Splitting**\n",
        "\n",
        "To ensure that the model is evaluated on unseen data, the dataset was randomly split into training and testing subsets:\n",
        "\n",
        "- **Train-Test Split**: The data was split into 80% training and 20% testing, yielding 103,904 observations in the training set and 25,976 observations in the test set. The split was done using a random seed to ensure reproducibility.\n",
        "\n",
        "\n",
        "\n",
        "### **Exploratory Data Analysis (EDA)**\n",
        "The purpose of this Exploratory Data Analysis (EDA) is to gain a deeper understanding of the Airline Passenger Satisfaction dataset, identify potential issues, and uncover insights that could influence passenger satisfaction. Below is a summarized analysis of key findings from the EDA process.\n",
        "\n",
        "#### **Distribution of Numerical Variables**\n",
        "Histograms were plotted for all numerical features, revealing that most of the numerical variables, except for age, are right-skewed. This suggests that these features do not follow a normal distribution and may require transformation.\n",
        "???\n",
        "\n",
        "#### Correlation Analysis\n",
        "A correlation matrix was computed for numerical variables to check for multicollinearity. Notably, `departure_delay_in_minutes` and `arrival_delay_in_minutes` were found to be highly correlated, suggesting redundancy. One of these features can be dropped to avoid multicollinearity.\n",
        "\n",
        "A heatmap visualization of the correlation matrix highlighted these relationships:\n",
        "???\n",
        "\n",
        "#### Feature-Target Relationships\n",
        "- **Numerical Features**: Density plots were generated to examine how numerical features correlate with the target variable `satisfaction`. These plots indicated that no single feature strongly separated the two classes, suggesting that complex interactions between features may be necessary for predictive modeling.\n",
        "  ???\n",
        "- **Ordinal Features**: Count plots were used to analyze ordinal features, such as `seat_comfort`, `on_board_service`, and `inflight_entertainment`. These features showed very few observations with values of 0, which will need to be addressed during preprocessing.\n",
        "\n",
        "The EDA revealed that the target variable is slightly imbalanced, while many numerical variables are right-skewed and may require transformations. There is high correlation between certain features, suggesting redundancy, and no single feature strongly separates the target variable, indicating the need for more complex models. Missing values were addressed by removing redundant columns, and the dataset is now ready for further preprocessing and modeling.\n",
        "\n",
        "\n",
        "---"
      ],
      "id": "421cbc75"
    },
    {
      "cell_type": "markdown",
      "metadata": {},
      "source": [
        "## **Preprocessing**\n",
        "\n",
        " A feature was removed due to missing values and high correlation with another feature, making it redundant.\n",
        "\n",
        "2. **Encoding Categorical Variables**  \n",
        "   Categorical variables were encoded for machine learning algorithms. One feature was converted into a binary variable, and other categorical variables were one-hot encoded to transform them into numerical format.\n",
        "\n",
        "3. **Scaling Numerical Features**  \n",
        "   Numerical features were standardized or scaled to ensure they have similar ranges. This helps prevent dominance of variables with larger ranges in machine learning models. Different scaling methods were applied based on the type of data:\n",
        "   - One-hot encoding for categorical variables.\n",
        "   - Min-Max scaling for ordinal variables.\n",
        "   - Standard scaling for numerical variables.\n",
        "\n",
        "4. **Column Transformer Setup**  \n",
        "   A `ColumnTransformer` was used to apply appropriate transformations to each feature type, ensuring the data is ready for machine learning models. Categorical variables were one-hot encoded, ordinal variables were min-max scaled, and numerical variables were standardized.\n",
        "\n",
        "This preprocessing pipeline ensures the dataset is properly prepared for analysis and modeling, with consistent scaling and encoding applied across the features.\n"
      ],
      "id": "8510dd94"
    },
    {
      "cell_type": "raw",
      "metadata": {},
      "source": [
        "---\n",
        "\n",
        "## **Modeling**\n",
        "\n",
        "\n",
        "---"
      ],
      "id": "ba13af79"
    },
    {
      "cell_type": "markdown",
      "metadata": {},
      "source": [
        "## **Results and Discussion**\n"
      ],
      "id": "cad1d7cd"
    },
    {
      "cell_type": "raw",
      "metadata": {},
      "source": [
        "---\n",
        "\n",
        "\n",
        "\n",
        "---"
      ],
      "id": "7fb7bcc9"
    },
    {
      "cell_type": "markdown",
      "metadata": {},
      "source": [
        "### **References**\n",
        "List any research papers, articles, or sources that you referred to while doing the analysis.\n"
      ],
      "id": "22998d8c"
    }
  ],
  "metadata": {
    "kernelspec": {
      "name": "python3",
      "language": "python",
      "display_name": "Python 3 (ipykernel)"
    }
  },
  "nbformat": 4,
  "nbformat_minor": 5
}