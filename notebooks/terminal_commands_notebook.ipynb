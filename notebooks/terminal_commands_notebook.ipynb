{
 "cells": [
  {
   "cell_type": "markdown",
   "id": "b8b4d2c5",
   "metadata": {},
   "source": [
    "# Analysis Commands"
   ]
  },
  {
   "cell_type": "markdown",
   "id": "6aacddd3",
   "metadata": {},
   "source": [
    "Restart the kernel and run all to run the analysis for this repository from top to bottom."
   ]
  },
  {
   "cell_type": "code",
   "execution_count": null,
   "id": "11ae19d7-0951-4b4e-98b3-ce8ed51c385c",
   "metadata": {},
   "outputs": [],
   "source": [
    "# Download the data\n",
    "!python ../scripts/data_download.py --url=\"teejmahal20/airline-passenger-satisfaction\" --save-to=\"../data\" --file-to=\"combined_dataset.csv\""
   ]
  },
  {
   "cell_type": "code",
   "execution_count": null,
   "id": "970001d5-78f6-43d8-af07-7b310ffbb760",
   "metadata": {},
   "outputs": [],
   "source": [
    "# Validate and prepare the data\n",
    "!python ../scripts/data_preparation.py --raw-data=\"../data/combined_dataset.csv\" --test-size=0.2 --data-to=\"../data/\" --preprocessor-to=\"../results/models/\""
   ]
  },
  {
   "cell_type": "code",
   "execution_count": null,
   "id": "08fdcaf1-4638-43b9-94bf-5fc86967da7e",
   "metadata": {},
   "outputs": [],
   "source": [
    "# EDA\n",
    "!python ../scripts/eda.py --train-data-path=\"../data/processed/scaled_satisfaction_train.csv\" --plot-to=\"../results/figures\""
   ]
  },
  {
   "cell_type": "code",
   "execution_count": null,
   "id": "3db1641c",
   "metadata": {},
   "outputs": [],
   "source": [
    "# Train the model\n",
    "!python ../scripts/model_training.py --preprocessor-path=\"../results/models/preprocessor.pickle\" --pipeline-to=\"../results/models/\" --train-path=\"../data/raw/satisfaction_train.csv\" --eval-metric=\"f1\" --plot-save-path=\"../results/figures\" --cv-results-save-path=\"../results/tables\""
   ]
  },
  {
   "cell_type": "code",
   "execution_count": null,
   "id": "064444b7",
   "metadata": {},
   "outputs": [],
   "source": [
    "# Evaluate the final model\n",
    "!python ../scripts/model_evaluation.py --pipeline=\"../results/models/model_pipeline.pickle\" --test-path=\"../data/raw/satisfaction_test.csv\" --results-to=\"../results/tables\" --plots-to=\"../results/figures\""
   ]
  },
  {
   "cell_type": "code",
   "execution_count": null,
   "id": "b24076a0-8f48-4776-9b41-7cd0a6899604",
   "metadata": {},
   "outputs": [],
   "source": [
    "# Render the report into html file\n",
    "!quarto render report/airline-customer-satisfaction-predictor.qmd --to html"
   ]
  },
  {
   "cell_type": "code",
   "execution_count": null,
   "id": "6c421475-f719-43f2-b439-3cf4e80addc1",
   "metadata": {},
   "outputs": [],
   "source": [
    "# Render the report into pdf file\n",
    "!quarto render report/airline-customer-satisfaction-predictor.qmd --to pdf"
   ]
  }
 ],
 "metadata": {
  "kernelspec": {
   "display_name": "Python 3 (ipykernel)",
   "language": "python",
   "name": "python3"
  },
  "language_info": {
   "codemirror_mode": {
    "name": "ipython",
    "version": 3
   },
   "file_extension": ".py",
   "mimetype": "text/x-python",
   "name": "python",
   "nbconvert_exporter": "python",
   "pygments_lexer": "ipython3",
   "version": "3.11.9"
  }
 },
 "nbformat": 4,
 "nbformat_minor": 5
}
