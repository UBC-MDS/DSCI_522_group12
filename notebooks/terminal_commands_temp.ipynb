{
 "cells": [
  {
   "cell_type": "markdown",
   "id": "b8b4d2c5",
   "metadata": {},
   "source": [
    "# Analysis Commands"
   ]
  },
  {
   "cell_type": "markdown",
   "id": "6aacddd3",
   "metadata": {},
   "source": [
    "Restart the kernel and run all to run the analysis for this repository from top to bottom."
   ]
  },
  {
   "cell_type": "markdown",
   "id": "63f430f3",
   "metadata": {},
   "source": [
    "cd into the root of this repository"
   ]
  },
  {
   "cell_type": "code",
   "execution_count": 1,
   "id": "11ae19d7-0951-4b4e-98b3-ce8ed51c385c",
   "metadata": {},
   "outputs": [],
   "source": [
    "!python ../scripts/data_download.py --url=\"teejmahal20/airline-passenger-satisfaction\" --save_to=\"../data/\" --file_to=\"combined_dataset.csv\""
   ]
  },
  {
   "cell_type": "code",
   "execution_count": 2,
   "id": "970001d5-78f6-43d8-af07-7b310ffbb760",
   "metadata": {},
   "outputs": [
    {
     "name": "stdout",
     "output_type": "stream",
     "text": [
      "Congratulations! Data validation passed!\n",
      "Raw data is saved in the directory: ..\\data\\raw\n",
      "Processed data is saved in the directory: ..\\data\\processed\n"
     ]
    }
   ],
   "source": [
    "!python ../scripts/data_preparation.py --raw_data=\"../data/combined_dataset.csv\" --test_size=0.2 --data_to=\"../data/\" --preprocessor_to=\"../results/models/\""
   ]
  },
  {
   "cell_type": "code",
   "execution_count": 3,
   "id": "08fdcaf1-4638-43b9-94bf-5fc86967da7e",
   "metadata": {},
   "outputs": [
    {
     "name": "stdout",
     "output_type": "stream",
     "text": [
      "Target variable distribution plot saved in: \u001b[1m..\\results\\figures\\target_variable_distribution.png\u001b[0m\n",
      "\u001b[1mCongratulations!\u001b[0m Feature-Target Correlations Passed!\n",
      "\u001b[1mCongratulations!\u001b[0m Feature-Feature Correlations Passed!\n",
      "Correlation matrix saved in: \u001b[1m..\\results\\figures\\correlation_matrix.png\u001b[0m\n",
      "Numeric features vs. Target variable plots saved in: \u001b[1m..\\results\\figures\\numeric_feat_target_plots.png\u001b[0m\n",
      "Categorical features vs. Target variable plots saved in: \u001b[1m..\\results\\figures\\cat_feat_target_plots.png\u001b[0m\n"
     ]
    }
   ],
   "source": [
    "!python ../scripts/eda.py --train-data-path=\"../data/processed/scaled_satisfaction_train.csv\" --plot-to=\"../results/figures\""
   ]
  },
  {
   "cell_type": "code",
   "execution_count": 4,
   "id": "3db1641c",
   "metadata": {},
   "outputs": [],
   "source": [
    "!python ../scripts/model_training.py --preprocessor-path=\"../results/models/preprocessor.pickle\" --pipeline-to=\"../results/models/\" --train-path=\"../data/raw/satisfaction_train.csv\" --eval-metric=\"f1\" --plot-save-path=\"../results/figures\" --cv-results-save-path=\"../results/tables\""
   ]
  },
  {
   "cell_type": "code",
   "execution_count": 5,
   "id": "064444b7",
   "metadata": {},
   "outputs": [
    {
     "name": "stdout",
     "output_type": "stream",
     "text": [
      "CV results plot saved in: \u001b[1m..\\results\\figures\\cv_results_plot.png\u001b[0m\n",
      "Model 'model_pipeline.pickle' saved in the directory: ../results/models/\n",
      "Congratulations! Model Training Done!\n",
      "Model evaluation results saved in the directory: ..\\results\\tables\n",
      "Congratulations! Model Evaluation Done!\n"
     ]
    }
   ],
   "source": [
    "!python ../scripts/model_evaluation.py --pipeline=\"../results/models/model_pipeline.pickle\" --test-path=\"../data/raw/satisfaction_test.csv\" --results-to=\"../results/tables\" --plots-to=\"../results/figures\""
   ]
  },
  {
   "cell_type": "code",
   "execution_count": null,
   "id": "f84dff28-af5c-4491-9edc-534bc7f6d9e8",
   "metadata": {},
   "outputs": [],
   "source": []
  }
 ],
 "metadata": {
  "kernelspec": {
   "display_name": "Python 3 (ipykernel)",
   "language": "python",
   "name": "python3"
  },
  "language_info": {
   "codemirror_mode": {
    "name": "ipython",
    "version": 3
   },
   "file_extension": ".py",
   "mimetype": "text/x-python",
   "name": "python",
   "nbconvert_exporter": "python",
   "pygments_lexer": "ipython3",
   "version": "3.11.9"
  }
 },
 "nbformat": 4,
 "nbformat_minor": 5
}
