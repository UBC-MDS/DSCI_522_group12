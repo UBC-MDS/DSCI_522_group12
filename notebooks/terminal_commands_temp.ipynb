{
 "cells": [
  {
   "cell_type": "markdown",
   "id": "b8b4d2c5",
   "metadata": {},
   "source": [
    "# Analysis Commands"
   ]
  },
  {
   "cell_type": "markdown",
   "id": "6aacddd3",
   "metadata": {},
   "source": [
    "Restart the kernel and run all to run the analysis for this repository from top to bottom."
   ]
  },
  {
   "cell_type": "markdown",
   "id": "63f430f3",
   "metadata": {},
   "source": [
    "cd into the root of this repository"
   ]
  },
  {
   "cell_type": "code",
   "execution_count": 1,
   "id": "11ae19d7-0951-4b4e-98b3-ce8ed51c385c",
   "metadata": {},
   "outputs": [
    {
     "name": "stdout",
     "output_type": "stream",
     "text": [
      "\n",
      "                The file \"..\\data\\combined_dataset.csv\" already exists... \n",
      "                The script will not overwrite the file. \n",
      "                If you want to force save the file, specify argument --force_save=True\n",
      "                Terminating the script...\n",
      "        \n"
     ]
    }
   ],
   "source": [
    "!python ../scripts/data_download.py --url=\"teejmahal20/airline-passenger-satisfaction\" --save_to=\"../data/\" --file_to=\"combined_dataset.csv\""
   ]
  },
  {
   "cell_type": "code",
   "execution_count": 2,
   "id": "970001d5-78f6-43d8-af07-7b310ffbb760",
   "metadata": {},
   "outputs": [
    {
     "name": "stdout",
     "output_type": "stream",
     "text": [
      "Congratulations! Data validation passed!\n",
      "Raw data is saved in the directory: ..\\data\\raw\n",
      "Processed data is saved in the directory: ..\\data\\processed\n"
     ]
    }
   ],
   "source": [
    "!python ../scripts/data_preparation.py --raw_data=\"../data/combined_dataset.csv\" --test_size=0.2 --data_to=\"../data/\" --preprocessor_to=\"../results/models/\""
   ]
  },
  {
   "cell_type": "code",
   "execution_count": 3,
   "id": "3db1641c",
   "metadata": {},
   "outputs": [],
   "source": [
    "!python ../scripts/model_training.py --preprocessor_path=\"../results/models/preprocessor.pickle\" --pipeline_to=\"../results/models/\" --train_path=\"../data/raw/satisfaction_train.csv\""
   ]
  },
  {
   "cell_type": "code",
   "execution_count": 4,
   "id": "064444b7",
   "metadata": {},
   "outputs": [
    {
     "name": "stdout",
     "output_type": "stream",
     "text": [
      "Model 'model_pipeline.pickle' saved in the directory: ../results/models/\n",
      "Congratulations! Model Training passed!\n",
      "Model evaluation results saved in the directory: ../results\n",
      "Congratulations! Model Evaluation passed!\n"
     ]
    }
   ],
   "source": [
    "!python ../scripts/model_evaluation.py --test_path=\"../data/raw/satisfaction_test.csv\" --pipeline=\"../results/models/model_pipeline.pickle\" --results_to=\"../results\""
   ]
  }
 ],
 "metadata": {
  "kernelspec": {
   "display_name": "dsci522-airline-pred",
   "language": "python",
   "name": "python3"
  },
  "language_info": {
   "codemirror_mode": {
    "name": "ipython",
    "version": 3
   },
   "file_extension": ".py",
   "mimetype": "text/x-python",
   "name": "python",
   "nbconvert_exporter": "python",
   "pygments_lexer": "ipython3",
   "version": "3.11.10"
  }
 },
 "nbformat": 4,
 "nbformat_minor": 5
}
