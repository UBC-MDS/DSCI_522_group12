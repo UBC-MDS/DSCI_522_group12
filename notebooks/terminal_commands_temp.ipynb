{
 "cells": [
  {
   "cell_type": "markdown",
   "id": "b8b4d2c5",
   "metadata": {},
   "source": [
    "# Analysis Commands"
   ]
  },
  {
   "cell_type": "markdown",
   "id": "6aacddd3",
   "metadata": {},
   "source": [
    "Restart the kernel and run all to run the analysis for this repository from top to bottom."
   ]
  },
  {
   "cell_type": "markdown",
   "id": "63f430f3",
   "metadata": {},
   "source": [
    "cd into the root of this repository"
   ]
  },
  {
   "cell_type": "code",
   "execution_count": 1,
   "id": "11ae19d7-0951-4b4e-98b3-ce8ed51c385c",
   "metadata": {},
   "outputs": [
    {
     "name": "stdout",
     "output_type": "stream",
     "text": [
      "\n",
      "                The file \"..\\data\\combined_dataset.csv\" already exists... \n",
      "                The script will not overwrite the file. \n",
      "                If you want to force save the file, specify argument --force_save=True\n",
      "                Terminating the script...\n",
      "        \n"
     ]
    }
   ],
   "source": [
    "!python ../scripts/data_download.py --url=\"teejmahal20/airline-passenger-satisfaction\" --save_to=\"../data/\" --file_to=\"combined_dataset.csv\""
   ]
  },
  {
   "cell_type": "code",
   "execution_count": 2,
   "id": "970001d5-78f6-43d8-af07-7b310ffbb760",
   "metadata": {},
   "outputs": [
    {
     "name": "stdout",
     "output_type": "stream",
     "text": [
      "Congratulations! Data validation passed!\n",
      "Raw data is saved in the directory: ..\\data\\raw\n",
      "Processed data is saved in the directory: ..\\data\\processed\n"
     ]
    }
   ],
   "source": [
    "!python ../scripts/data_preparation.py --raw_data=\"../data/combined_dataset.csv\" --test_size=0.2 --data_to=\"../data/\" --preprocessor_to=\"../results/models/\""
   ]
  },
  {
   "cell_type": "code",
   "execution_count": 3,
   "id": "08fdcaf1-4638-43b9-94bf-5fc86967da7e",
   "metadata": {},
   "outputs": [
    {
     "name": "stdout",
     "output_type": "stream",
     "text": [
      "Target variable distribution plot saved in: \u001b[1m..\\results\\figures\\target_variable_distribution.png\u001b[0m\n",
      "\u001b[1mCongratulations!\u001b[0m Feature-Target Correlations Passed!\n",
      "\u001b[1mCongratulations!\u001b[0m Feature-Feature Correlations Passed!\n",
      "Correlation matrix saved in: \u001b[1m..\\results\\figures\\correlation_matrix.png\u001b[0m\n",
      "Numeric features vs. Target variable plots saved in: \u001b[1m..\\results\\figures\\numeric_feat_target_plots.png\u001b[0m\n",
      "Categorical features vs. Target variable plots saved in: \u001b[1m..\\results\\figures\\cat_feat_target_plots.png\u001b[0m\n"
     ]
    }
   ],
   "source": [
    "!python ../scripts/eda.py --train-data-path=\"../data/processed/scaled_satisfaction_train.csv\" --plot-to=\"../results/figures\""
   ]
  },
  {
   "cell_type": "code",
   "execution_count": 4,
   "id": "3db1641c",
   "metadata": {},
   "outputs": [
    {
     "name": "stdout",
     "output_type": "stream",
     "text": [
      "CV results plot saved in: \u001b[1m..\\results\\figures\\cv_results_plot.png\u001b[0m\n",
      "Model 'model_pipeline.pickle' saved in the directory: ../results/models/\n",
      "Congratulations! Model Training Done!\n"
     ]
    }
   ],
   "source": [
    "!python ../scripts/model_training.py --preprocessor-path=\"../results/models/preprocessor.pickle\" --pipeline-to=\"../results/models/\" --train-path=\"../data/raw/satisfaction_train.csv\" --eval-metric=\"f1\" --plot-save-path=\"../results/figures\" --cv-results-save-path=\"../results/tables\""
   ]
  },
  {
   "cell_type": "code",
   "execution_count": 5,
   "id": "064444b7",
   "metadata": {},
   "outputs": [
    {
     "name": "stdout",
     "output_type": "stream",
     "text": [
      "Model evaluation results saved in the directory: ..\\results\\tables\n",
      "Congratulations! Model Evaluation Done!\n"
     ]
    }
   ],
   "source": [
    "!python ../scripts/model_evaluation.py --pipeline=\"../results/models/model_pipeline.pickle\" --test-path=\"../data/raw/satisfaction_test.csv\" --results-to=\"../results/tables\" --plots-to=\"../results/figures\""
   ]
  },
  {
   "cell_type": "code",
   "execution_count": 7,
   "id": "f84dff28-af5c-4491-9edc-534bc7f6d9e8",
   "metadata": {},
   "outputs": [
    {
     "name": "stderr",
     "output_type": "stream",
     "text": [
      "python: can't open file \"C:\\\\Users\\\\Azin\\\\Desktop\\\\Azin files\\\\Azin's Document\\\\UBC\\\\block 3\\\\522_dsci-workflows\\\\airline-customer-satisfaction-predictor\\\\notebooks\\\\quarto\": [Errno 2] No such file or directory\n",
      "python: can't open file \"C:\\\\Users\\\\Azin\\\\Desktop\\\\Azin files\\\\Azin's Document\\\\UBC\\\\block 3\\\\522_dsci-workflows\\\\airline-customer-satisfaction-predictor\\\\notebooks\\\\quarto\": [Errno 2] No such file or directory\n"
     ]
    }
   ],
   "source": [
    "# Creating pdf and html file from our results by Quarto / it should be in the terinal and the root directory of this project\n",
    "#quarto render report/airline-customer-satisfaction-predictor.qmd --to html\n",
    "# quarto render report/airline-customer-satisfaction-predictor.qmd --to pdf"
   ]
  },
  {
   "cell_type": "code",
   "execution_count": 9,
   "id": "57653b99-5ce0-4e9e-8e90-76aec3a0ea97",
   "metadata": {},
   "outputs": [
    {
     "data": {
      "text/html": [
       "<div>\n",
       "<style scoped>\n",
       "    .dataframe tbody tr th:only-of-type {\n",
       "        vertical-align: middle;\n",
       "    }\n",
       "\n",
       "    .dataframe tbody tr th {\n",
       "        vertical-align: top;\n",
       "    }\n",
       "\n",
       "    .dataframe thead th {\n",
       "        text-align: right;\n",
       "    }\n",
       "</style>\n",
       "<table border=\"1\" class=\"dataframe\">\n",
       "  <thead>\n",
       "    <tr style=\"text-align: right;\">\n",
       "      <th></th>\n",
       "      <th>neutral or dissatisfied</th>\n",
       "      <th>satisfied</th>\n",
       "      <th>accuracy</th>\n",
       "      <th>macro avg</th>\n",
       "      <th>weighted avg</th>\n",
       "    </tr>\n",
       "  </thead>\n",
       "  <tbody>\n",
       "    <tr>\n",
       "      <th>0</th>\n",
       "      <td>0.94</td>\n",
       "      <td>0.96</td>\n",
       "      <td>0.95</td>\n",
       "      <td>0.95</td>\n",
       "      <td>0.95</td>\n",
       "    </tr>\n",
       "    <tr>\n",
       "      <th>1</th>\n",
       "      <td>0.97</td>\n",
       "      <td>0.93</td>\n",
       "      <td>0.95</td>\n",
       "      <td>0.95</td>\n",
       "      <td>0.95</td>\n",
       "    </tr>\n",
       "    <tr>\n",
       "      <th>2</th>\n",
       "      <td>0.96</td>\n",
       "      <td>0.94</td>\n",
       "      <td>0.95</td>\n",
       "      <td>0.95</td>\n",
       "      <td>0.95</td>\n",
       "    </tr>\n",
       "    <tr>\n",
       "      <th>3</th>\n",
       "      <td>14622.00</td>\n",
       "      <td>11354.00</td>\n",
       "      <td>0.95</td>\n",
       "      <td>25976.00</td>\n",
       "      <td>25976.00</td>\n",
       "    </tr>\n",
       "  </tbody>\n",
       "</table>\n",
       "</div>"
      ],
      "text/plain": [
       "   neutral or dissatisfied  satisfied  accuracy  macro avg  weighted avg\n",
       "0                     0.94       0.96      0.95       0.95          0.95\n",
       "1                     0.97       0.93      0.95       0.95          0.95\n",
       "2                     0.96       0.94      0.95       0.95          0.95\n",
       "3                 14622.00   11354.00      0.95   25976.00      25976.00"
      ]
     },
     "execution_count": 9,
     "metadata": {},
     "output_type": "execute_result"
    }
   ],
   "source": [
    "import pandas as pd\n",
    "classification_report = pd.read_csv(\"../results/tables/classification_report.csv\")\n",
    "classification_report_rounded = classification_report.round(2)\n",
    "classification_report_rounded"
   ]
  },
  {
   "cell_type": "code",
   "execution_count": 11,
   "id": "33948d77-0616-4291-9b82-2fc5af4526aa",
   "metadata": {},
   "outputs": [
    {
     "data": {
      "text/plain": [
       "0.96"
      ]
     },
     "execution_count": 11,
     "metadata": {},
     "output_type": "execute_result"
    }
   ],
   "source": [
    "classification_report_rounded.iloc[0, 1]"
   ]
  },
  {
   "cell_type": "code",
   "execution_count": null,
   "id": "39dc9d32-399b-4bb5-be38-beb8ac27603c",
   "metadata": {},
   "outputs": [],
   "source": []
  }
 ],
 "metadata": {
  "kernelspec": {
   "display_name": "Python 3 (ipykernel)",
   "language": "python",
   "name": "python3"
  },
  "language_info": {
   "codemirror_mode": {
    "name": "ipython",
    "version": 3
   },
   "file_extension": ".py",
   "mimetype": "text/x-python",
   "name": "python",
   "nbconvert_exporter": "python",
   "pygments_lexer": "ipython3",
   "version": "3.11.11"
  }
 },
 "nbformat": 4,
 "nbformat_minor": 5
}
