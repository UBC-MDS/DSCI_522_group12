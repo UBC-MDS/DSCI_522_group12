{
 "cells": [
  {
   "cell_type": "code",
   "execution_count": 1,
   "id": "11ae19d7-0951-4b4e-98b3-ce8ed51c385c",
   "metadata": {},
   "outputs": [
    {
     "name": "stdout",
     "output_type": "stream",
     "text": [
      "\n",
      "                The file \"..\\data\\combined_dataset.csv\" already exists... \n",
      "                The script will not overwrite the file. \n",
      "                If you want to force save the file, specify argument --force_save=True\n",
      "                Terminating the script...\n",
      "        \n"
     ]
    }
   ],
   "source": [
    "!python ../scripts/data_download.py --url=\"teejmahal20/airline-passenger-satisfaction\" --save_to=\"../data/\" --file_to=\"combined_dataset.csv\""
   ]
  },
  {
   "cell_type": "code",
   "execution_count": 1,
   "id": "970001d5-78f6-43d8-af07-7b310ffbb760",
   "metadata": {},
   "outputs": [
    {
     "name": "stdout",
     "output_type": "stream",
     "text": [
      "Congratulations! Data validation passed!\n"
     ]
    },
    {
     "name": "stderr",
     "output_type": "stream",
     "text": [
      "2024-12-04 17:30:00 - INFO - Raw data is saved in the directory: ..\\data\\raw\n",
      "2024-12-04 17:30:01 - INFO - Processed data is saved in the directory: ..\\data\\processed\n"
     ]
    }
   ],
   "source": [
    "!python ../scripts/data_preparation.py --raw_data=\"../data/combined_dataset.csv\" --test_size=0.2 --data_to=\"../data/\" --preprocessor_to=\"../results/models/\""
   ]
  }
 ],
 "metadata": {
  "kernelspec": {
   "display_name": "Python 3 (ipykernel)",
   "language": "python",
   "name": "python3"
  },
  "language_info": {
   "codemirror_mode": {
    "name": "ipython",
    "version": 3
   },
   "file_extension": ".py",
   "mimetype": "text/x-python",
   "name": "python",
   "nbconvert_exporter": "python",
   "pygments_lexer": "ipython3",
   "version": "3.11.9"
  }
 },
 "nbformat": 4,
 "nbformat_minor": 5
}
